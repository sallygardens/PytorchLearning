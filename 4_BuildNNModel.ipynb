{
 "cells": [
  {
   "cell_type": "markdown",
   "id": "556b9b15",
   "metadata": {},
   "source": [
    "# 创建一个Neural Network\n",
    "Neural Network包含对数据执行操作的layer或者是module。<kbd>torch.nn</kbd>命名空间提供了所有的你需要创建你自己的neural network的模块。在Pytorch中，每一个Pytorch中的module都是<kbd>nn.Module</kbd>的子类。一个neural network是包括其它module(layers)的module。这种嵌套结构(nested structure)允许方便的创建和管理复杂的architecture。\n",
    "\n",
    "在接下来的部分，我们将创建一个neural network去给FashionMNIST的图像进行分类。"
   ]
  },
  {
   "cell_type": "code",
   "execution_count": 2,
   "id": "ccf680ed",
   "metadata": {},
   "outputs": [],
   "source": [
    "import os\n",
    "import torch\n",
    "from torch import nn\n",
    "from torch.utils.data import DataLoader\n",
    "from torchvision import datasets,transforms"
   ]
  },
  {
   "cell_type": "markdown",
   "id": "0cda77c1",
   "metadata": {},
   "source": [
    "## 选择Device进行训练\n",
    "我们可以使用类似于GPU一样的hardware accelerator训练我们的model。如果hardware accelerator可用，我们就使用torch.cuda检查是否hardware accelerator可用，如果不可用我们就使用CPU。"
   ]
  },
  {
   "cell_type": "code",
   "execution_count": 3,
   "id": "47371ac2",
   "metadata": {},
   "outputs": [
    {
     "name": "stdout",
     "output_type": "stream",
     "text": [
      "Using cuda device\n"
     ]
    }
   ],
   "source": [
    "device = 'cuda'if torch.cuda.is_available() else 'cpu'\n",
    "print('Using {} device'.format(device))"
   ]
  },
  {
   "cell_type": "markdown",
   "id": "1f2acf86",
   "metadata": {},
   "source": [
    "## 定义Model类\n",
    "\n",
    "我们定义我们的neural network,它是nn.Model的子类，然后通过\\_\\_init\\_\\_方法来初始化neural network layer。每个<kbd>nn.Module</kbd>子类通过forword方法实现关于input data上的操作。"
   ]
  },
  {
   "cell_type": "code",
   "execution_count": 4,
   "id": "ad20a7ba",
   "metadata": {},
   "outputs": [],
   "source": [
    "class NeuralNetwork(nn.Module):\n",
    "    def __init__(self):\n",
    "        super(NeuralNetwork,self).__init__()\n",
    "        self.flatten = nn.Flatten()\n",
    "        self.linear_relu_stack=nn.Sequential(\n",
    "            nn.Linear(28*28,512),\n",
    "            nn.ReLU(),\n",
    "            nn.Linear(512,512),\n",
    "            nn.ReLU(),\n",
    "            nn.Linear(512,10),\n",
    "            nn.ReLU()\n",
    "        )\n",
    "    \n",
    "    def forward(self,x):\n",
    "        x = self.flatten(x)\n",
    "        logits=self.linear_relu_stack(x)\n",
    "        return logits"
   ]
  },
  {
   "cell_type": "markdown",
   "id": "6cbd1834",
   "metadata": {},
   "source": [
    "创建一个NeuralNetwork实例，将这个模型放到指定的device上，输出model的结构。"
   ]
  },
  {
   "cell_type": "code",
   "execution_count": 5,
   "id": "2bcdb758",
   "metadata": {},
   "outputs": [
    {
     "name": "stdout",
     "output_type": "stream",
     "text": [
      "NeuralNetwork(\n",
      "  (flatten): Flatten(start_dim=1, end_dim=-1)\n",
      "  (linear_relu_stack): Sequential(\n",
      "    (0): Linear(in_features=784, out_features=512, bias=True)\n",
      "    (1): ReLU()\n",
      "    (2): Linear(in_features=512, out_features=512, bias=True)\n",
      "    (3): ReLU()\n",
      "    (4): Linear(in_features=512, out_features=10, bias=True)\n",
      "    (5): ReLU()\n",
      "  )\n",
      ")\n"
     ]
    }
   ],
   "source": [
    "model = NeuralNetwork().to(device)\n",
    "print(model)"
   ]
  },
  {
   "cell_type": "markdown",
   "id": "3eda9886",
   "metadata": {},
   "source": [
    "我们将input data传入到model中。这样做会执行model的forward方法以及一些background operations。千万不要直接调用model.forword()方法。\n",
    "\n",
    "调用model后会返回一个带有原始predicted value的10维tensor。我们通过将这个predicted value传入到实例化的<kbd>nn.Softmax</kbd> 模块中，得到prediction probability。"
   ]
  },
  {
   "cell_type": "code",
   "execution_count": 6,
   "id": "fae53875",
   "metadata": {},
   "outputs": [
    {
     "name": "stdout",
     "output_type": "stream",
     "text": [
      "Predicted class:tensor([1], device='cuda:0')\n"
     ]
    }
   ],
   "source": [
    "X=torch.rand(1,28,28,device=device)\n",
    "logits=model(X)\n",
    "pred_probab=nn.Softmax(dim=1)(logits)\n",
    "y_pred=pred_probab.argmax(1)\n",
    "print(f\"Predicted class:{y_pred}\")"
   ]
  },
  {
   "cell_type": "markdown",
   "id": "3b026c58",
   "metadata": {},
   "source": [
    "## Model Layers\n",
    "现在我们来分析一下 FashionMNIST model。我们使用3张28x28 size的图片大小的sample minibatch，来看看当我们把它们输入进去network中时会发生说明情况。"
   ]
  },
  {
   "cell_type": "code",
   "execution_count": 7,
   "id": "d1139786",
   "metadata": {},
   "outputs": [
    {
     "name": "stdout",
     "output_type": "stream",
     "text": [
      "torch.Size([3, 28, 28])\n"
     ]
    }
   ],
   "source": [
    "input_image=torch.rand(3,28,28)\n",
    "print(input_image.size())\n"
   ]
  },
  {
   "cell_type": "markdown",
   "id": "40209c01",
   "metadata": {},
   "source": [
    "## nn.Flatten\n",
    "我们初始化nn.Flatten layer将2D的大小为28x28 pixels的图片转换为连续的784个pixel value的数组。(将继续维持minibatch的维数(在dim=0处))"
   ]
  },
  {
   "cell_type": "code",
   "execution_count": 8,
   "id": "6a4c00c3",
   "metadata": {},
   "outputs": [
    {
     "name": "stdout",
     "output_type": "stream",
     "text": [
      "torch.Size([3, 784])\n"
     ]
    }
   ],
   "source": [
    "flatten=nn.Flatten()\n",
    "flat_image=flatten(input_image)\n",
    "print(flat_image.size())"
   ]
  },
  {
   "cell_type": "markdown",
   "id": "84107886",
   "metadata": {},
   "source": [
    "## nn.Linear\n",
    "linear layer module 可以实现把使用所存的weight和bias的input data做一个linear transformation。"
   ]
  },
  {
   "cell_type": "code",
   "execution_count": 10,
   "id": "c4ccd9e4",
   "metadata": {},
   "outputs": [
    {
     "name": "stdout",
     "output_type": "stream",
     "text": [
      "torch.Size([3, 20])\n"
     ]
    }
   ],
   "source": [
    "layer1=nn.Linear(in_features=28*28,out_features=20)\n",
    "hidden1=layer1(flat_image)\n",
    "print(hidden1.size())"
   ]
  },
  {
   "cell_type": "markdown",
   "id": "8b9bd6be",
   "metadata": {},
   "source": [
    "## nn.ReLU\n",
    "Non-Linear activation在model的input和output之间创建了一个复杂的mapping。他们在linear transformation后引入non-linearity,帮助neural networks学习到更多的情况。\n",
    "\n",
    "在这个model中，我们在linear layer之间使用<kbd>nn.ReLU</kbd>，当然还有其它的activation可以在你的model中引入non-linearity。"
   ]
  },
  {
   "cell_type": "code",
   "execution_count": 11,
   "id": "376926df",
   "metadata": {},
   "outputs": [
    {
     "name": "stdout",
     "output_type": "stream",
     "text": [
      "Before ReLU:tensor([[ 0.4980,  0.4183,  0.4729,  0.1953, -0.5796, -0.5525, -0.1373,  0.0244,\n",
      "          0.4123, -0.4585,  0.2454,  0.2212, -0.0457, -0.0988,  0.0707, -0.3111,\n",
      "         -0.9504, -0.4235, -0.1288, -0.1715],\n",
      "        [ 0.0538,  0.2393,  0.0531, -0.2433, -0.7757,  0.0516, -0.0574, -0.0772,\n",
      "          0.0229, -0.2277,  0.2100,  0.2677,  0.1691, -0.1607,  0.2274, -0.3940,\n",
      "         -0.4249, -0.1693, -0.3229,  0.0180],\n",
      "        [ 0.2991,  0.6463,  0.3149, -0.4555, -0.5128,  0.0071, -0.1014,  0.1511,\n",
      "          0.2076,  0.0130,  0.4172,  0.1504, -0.1808, -0.7544,  0.6730, -0.1057,\n",
      "         -0.9215, -0.5958, -0.3144,  0.0216]], grad_fn=<AddmmBackward>)\n",
      "\n",
      "\n",
      "After ReLU:tensor([[0.4980, 0.4183, 0.4729, 0.1953, 0.0000, 0.0000, 0.0000, 0.0244, 0.4123,\n",
      "         0.0000, 0.2454, 0.2212, 0.0000, 0.0000, 0.0707, 0.0000, 0.0000, 0.0000,\n",
      "         0.0000, 0.0000],\n",
      "        [0.0538, 0.2393, 0.0531, 0.0000, 0.0000, 0.0516, 0.0000, 0.0000, 0.0229,\n",
      "         0.0000, 0.2100, 0.2677, 0.1691, 0.0000, 0.2274, 0.0000, 0.0000, 0.0000,\n",
      "         0.0000, 0.0180],\n",
      "        [0.2991, 0.6463, 0.3149, 0.0000, 0.0000, 0.0071, 0.0000, 0.1511, 0.2076,\n",
      "         0.0130, 0.4172, 0.1504, 0.0000, 0.0000, 0.6730, 0.0000, 0.0000, 0.0000,\n",
      "         0.0000, 0.0216]], grad_fn=<ReluBackward0>)\n"
     ]
    }
   ],
   "source": [
    "print(f\"Before ReLU:{hidden1}\\n\\n\")\n",
    "hidden1=nn.ReLU()(hidden1)\n",
    "print(f\"After ReLU:{hidden1}\")\n"
   ]
  },
  {
   "cell_type": "markdown",
   "id": "51c0d4a6",
   "metadata": {},
   "source": [
    "## nn.Sequential\n",
    "<kbd>nn.Sequential</kbd>是一个有序的module容器。data经过同样顺序的modules。你可以是哟红sequential container去把一个像是 seq_modules 的quick network整合到一起。"
   ]
  },
  {
   "cell_type": "code",
   "execution_count": 12,
   "id": "281e153a",
   "metadata": {},
   "outputs": [],
   "source": [
    "seq_modules = nn.Sequential(\n",
    "    flatten,\n",
    "    layer1,\n",
    "    nn.ReLU(),\n",
    "    nn.Linear(20, 10)\n",
    ")\n",
    "input_image = torch.rand(3,28,28)\n",
    "logits = seq_modules(input_image)"
   ]
  },
  {
   "cell_type": "markdown",
   "id": "62df1932",
   "metadata": {},
   "source": [
    "## nn.Softmax\n",
    "最后一层的neural network的linear layer返回logits-在\\[-infty.+infty\\]的原始值，将这些logits经过<kbd>nn.Softmax</kbd> 模块处理后，logits的范围会缩放至\\[0,1\\]之间，表示model对每一个class的predicted probabilites。dim参数表示的维数上数字之和必须等于1的维度。"
   ]
  },
  {
   "cell_type": "code",
   "execution_count": 13,
   "id": "832d8442",
   "metadata": {},
   "outputs": [],
   "source": [
    "softmax=nn.Softmax(dim=1)\n",
    "pred_probab=softmax(logits)"
   ]
  },
  {
   "cell_type": "markdown",
   "id": "14974e38",
   "metadata": {},
   "source": [
    "## Model Parameters\n",
    "神经网络内部许多层都是参数化的，即具有在训练期间优化的相关weight和bias。 子类nn.module会自动跟踪model object中定义的所有field，并使所有参数可以使用你的parameters()或named_parameters（）方法访问。\n",
    "\n",
    "在这个例子中，我们遍历每个参数，并打印其大小和预览值。"
   ]
  },
  {
   "cell_type": "code",
   "execution_count": 14,
   "id": "462729eb",
   "metadata": {},
   "outputs": [
    {
     "name": "stdout",
     "output_type": "stream",
     "text": [
      "Model structure: NeuralNetwork(\n",
      "  (flatten): Flatten(start_dim=1, end_dim=-1)\n",
      "  (linear_relu_stack): Sequential(\n",
      "    (0): Linear(in_features=784, out_features=512, bias=True)\n",
      "    (1): ReLU()\n",
      "    (2): Linear(in_features=512, out_features=512, bias=True)\n",
      "    (3): ReLU()\n",
      "    (4): Linear(in_features=512, out_features=10, bias=True)\n",
      "    (5): ReLU()\n",
      "  )\n",
      ") \n",
      "\n",
      "\n",
      "layer:linear_relu_stack.0.weight| Size:torch.Size([512, 784])|Values:tensor([[-0.0180, -0.0004, -0.0056,  ..., -0.0180, -0.0015, -0.0194],\n",
      "        [ 0.0022,  0.0048, -0.0076,  ..., -0.0220, -0.0009, -0.0261]],\n",
      "       device='cuda:0', grad_fn=<SliceBackward>)\n",
      "\n",
      "layer:linear_relu_stack.0.bias| Size:torch.Size([512])|Values:tensor([-0.0144, -0.0280], device='cuda:0', grad_fn=<SliceBackward>)\n",
      "\n",
      "layer:linear_relu_stack.2.weight| Size:torch.Size([512, 512])|Values:tensor([[-0.0346,  0.0274, -0.0099,  ...,  0.0365, -0.0054,  0.0073],\n",
      "        [ 0.0044,  0.0376, -0.0375,  ..., -0.0073, -0.0122, -0.0165]],\n",
      "       device='cuda:0', grad_fn=<SliceBackward>)\n",
      "\n",
      "layer:linear_relu_stack.2.bias| Size:torch.Size([512])|Values:tensor([-0.0149,  0.0035], device='cuda:0', grad_fn=<SliceBackward>)\n",
      "\n",
      "layer:linear_relu_stack.4.weight| Size:torch.Size([10, 512])|Values:tensor([[-0.0358,  0.0421, -0.0306,  ..., -0.0439,  0.0352, -0.0335],\n",
      "        [-0.0314,  0.0276, -0.0300,  ..., -0.0136, -0.0146, -0.0039]],\n",
      "       device='cuda:0', grad_fn=<SliceBackward>)\n",
      "\n",
      "layer:linear_relu_stack.4.bias| Size:torch.Size([10])|Values:tensor([0.0220, 0.0101], device='cuda:0', grad_fn=<SliceBackward>)\n",
      "\n"
     ]
    }
   ],
   "source": [
    "print(\"Model structure:\",model,\"\\n\\n\")\n",
    "\n",
    "for name,param in model.named_parameters():\n",
    "    print(f\"layer:{name}| Size:{param.size()}|Values:{param[:2]}\\n\")"
   ]
  },
  {
   "cell_type": "markdown",
   "id": "8197ab7a",
   "metadata": {},
   "source": [
    "## 扩展阅读\n",
    "[torch.nn API](https://pytorch.org/docs/stable/nn.html)"
   ]
  },
  {
   "cell_type": "code",
   "execution_count": null,
   "id": "a79357ba",
   "metadata": {},
   "outputs": [],
   "source": []
  }
 ],
 "metadata": {
  "kernelspec": {
   "display_name": "Python [conda env:py38]",
   "language": "python",
   "name": "conda-env-py38-py"
  },
  "language_info": {
   "codemirror_mode": {
    "name": "ipython",
    "version": 3
   },
   "file_extension": ".py",
   "mimetype": "text/x-python",
   "name": "python",
   "nbconvert_exporter": "python",
   "pygments_lexer": "ipython3",
   "version": "3.8.10"
  }
 },
 "nbformat": 4,
 "nbformat_minor": 5
}
