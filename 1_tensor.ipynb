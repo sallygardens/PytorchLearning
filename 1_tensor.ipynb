{
 "cells": [
  {
   "cell_type": "markdown",
   "id": "e9c9ccdd",
   "metadata": {},
   "source": [
    "# tensors\n",
    "\n",
    "**Ps:建议学完numpy再学习pytorch**\n",
    "\n",
    "使用的数据集是FashionMNIST\n",
    "\n",
    "Tensors是一个和**数组**和**矩阵**类似的基本数据结构。我们可以在pytorch中使用tensors去编码Model的input data、output data以及model's parameters。\n",
    "\n",
    "Tensors和Numpy中的ndarrays类似，不过tensors还可以运行在GPU以及其它的硬件上。事实上，Tensors与Numpy的array除了复制数据以外，往往是共享**同样的底层memory**。Tensors有针对automatic differentiation的优化。"
   ]
  },
  {
   "cell_type": "code",
   "execution_count": 1,
   "id": "9434f7a1",
   "metadata": {},
   "outputs": [],
   "source": [
    "import torch\n",
    "import numpy as np"
   ]
  },
  {
   "cell_type": "markdown",
   "id": "18f8831e",
   "metadata": {},
   "source": [
    "## 1. 初始化一个Tensor\n",
    "\n",
    "Tensors可以通过各种各样的方式进行初始化。\n",
    "\n",
    "### 1.1 通过Python List进行初始化"
   ]
  },
  {
   "cell_type": "code",
   "execution_count": 2,
   "id": "b168db07",
   "metadata": {},
   "outputs": [],
   "source": [
    "data=[[1,2],[3,4]]\n",
    "x_data=torch.tensor(data)"
   ]
  },
  {
   "cell_type": "markdown",
   "id": "eb9d1df2",
   "metadata": {},
   "source": [
    "### 1.2 通过Numpy的array进行初始化"
   ]
  },
  {
   "cell_type": "code",
   "execution_count": 3,
   "id": "3d864734",
   "metadata": {},
   "outputs": [],
   "source": [
    "np_array=np.array(data)\n",
    "x_np = torch.from_numpy(np_array)"
   ]
  },
  {
   "cell_type": "markdown",
   "id": "166aed9d",
   "metadata": {},
   "source": [
    "### 1.3 通过另外一个tensor进行初始化"
   ]
  },
  {
   "cell_type": "code",
   "execution_count": 5,
   "id": "880f69ca",
   "metadata": {},
   "outputs": [
    {
     "name": "stdout",
     "output_type": "stream",
     "text": [
      "Ones Tensor:\n",
      "tensor([[1, 1],\n",
      "        [1, 1]])\n",
      "\n",
      "Random Tensor:\n",
      " tensor([[0.2708, 0.9801],\n",
      "        [0.7570, 0.4160]])\n",
      "\n"
     ]
    }
   ],
   "source": [
    "x_ones = torch.ones_like(x_data) # 只保留x_data的属性包括shape和datatype\n",
    "print(f\"Ones Tensor:\\n{x_ones}\\n\")\n",
    "\n",
    "x_rand =torch.rand_like(x_data,dtype=torch.float) # 保留shape改变datatype\n",
    "print(f\"Random Tensor:\\n {x_rand}\\n\")\n"
   ]
  },
  {
   "cell_type": "markdown",
   "id": "94cefd4f",
   "metadata": {},
   "source": [
    "### 1.4 使用torch初始化Tensor "
   ]
  },
  {
   "cell_type": "code",
   "execution_count": 6,
   "id": "663d4862",
   "metadata": {},
   "outputs": [
    {
     "name": "stdout",
     "output_type": "stream",
     "text": [
      "Random Tensor: \n",
      " tensor([[0.9400, 0.2946, 0.6954],\n",
      "        [0.5766, 0.7224, 0.8638]]) \n",
      "\n",
      "Ones Tensor: \n",
      " tensor([[1., 1., 1.],\n",
      "        [1., 1., 1.]]) \n",
      "\n",
      "Zeros Tensor: \n",
      " tensor([[0., 0., 0.],\n",
      "        [0., 0., 0.]])\n"
     ]
    }
   ],
   "source": [
    "shape = (2,3,)\n",
    "rand_tensor = torch.rand(shape)\n",
    "ones_tensor = torch.ones(shape)\n",
    "zeros_tensor = torch.zeros(shape)\n",
    "\n",
    "print(f\"Random Tensor: \\n {rand_tensor} \\n\")\n",
    "print(f\"Ones Tensor: \\n {ones_tensor} \\n\")\n",
    "print(f\"Zeros Tensor: \\n {zeros_tensor}\")"
   ]
  },
  {
   "cell_type": "markdown",
   "id": "22cc6510",
   "metadata": {},
   "source": [
    "## 2.Tensor的属性"
   ]
  },
  {
   "cell_type": "code",
   "execution_count": 8,
   "id": "2bd85183",
   "metadata": {},
   "outputs": [
    {
     "name": "stdout",
     "output_type": "stream",
     "text": [
      "Shape of tensor: torch.Size([3, 4])\n",
      "Datatype of tensor: torch.float32\n",
      "Device tensor is stored on: cpu\n"
     ]
    }
   ],
   "source": [
    "tensor = torch.rand(3,4)\n",
    "\n",
    "print(f\"Shape of tensor: {tensor.shape}\")\n",
    "print(f\"Datatype of tensor: {tensor.dtype}\")\n",
    "print(f\"Device tensor is stored on: {tensor.device}\")"
   ]
  },
  {
   "cell_type": "markdown",
   "id": "fb6847b8",
   "metadata": {},
   "source": [
    "## 3. Tensor 运算\n",
    "\n",
    "pytorch提供了超过100种Tensor的运算，包括算术运算，线性代数，矩阵运算，取样等等。详见\n",
    "[这里](https://pytorch.org/docs/stable/torch.html)\n",
    "\n",
    "这些运行在GPU上，如果你使用colab，分配一个GPU，速度上Runtime>Change runtime type>GPU。\n",
    "\n",
    "默认的tensors会在CPU上创建，我们需要明确的将tensors将tensors使用.to的方法使用GPU，在此之前先检查GPU加速是否可用。**注意，在设备上复制大型tensors在时间和存储方面上需要付出很大代价！**"
   ]
  },
  {
   "cell_type": "code",
   "execution_count": 9,
   "id": "5a0dcbc8",
   "metadata": {},
   "outputs": [],
   "source": [
    "# We move our tensor to the GPU if available\n",
    "if torch.cuda.is_available():\n",
    "  tensor = tensor.to('cuda')"
   ]
  },
  {
   "cell_type": "markdown",
   "id": "2d5f306f",
   "metadata": {},
   "source": [
    "### 3.1 类似于numpy的索引和切片操作"
   ]
  },
  {
   "cell_type": "code",
   "execution_count": 10,
   "id": "b19e7a27",
   "metadata": {},
   "outputs": [
    {
     "name": "stdout",
     "output_type": "stream",
     "text": [
      "First row: tensor([1., 1., 1., 1.])\n",
      "First column: tensor([1., 1., 1., 1.])\n",
      "Last column: tensor([1., 1., 1., 1.])\n",
      "tensor([[1., 0., 1., 1.],\n",
      "        [1., 0., 1., 1.],\n",
      "        [1., 0., 1., 1.],\n",
      "        [1., 0., 1., 1.]])\n"
     ]
    }
   ],
   "source": [
    "tensor = torch.ones(4,4)\n",
    "print('First row:',tensor[0])\n",
    "print('First column:',tensor[:,0])\n",
    "print('Last column:',tensor[...,-1])\n",
    "tensor[:,1]=0\n",
    "print(tensor)"
   ]
  },
  {
   "cell_type": "markdown",
   "id": "a27bdc28",
   "metadata": {},
   "source": [
    "### 3.2 tensors的连接\n",
    "使用torch.cat方法和torch.stack方法，这两个方法有微小的差异，可以连接不同的tensors。\n",
    "\n"
   ]
  },
  {
   "cell_type": "code",
   "execution_count": 11,
   "id": "2bab0ecf",
   "metadata": {},
   "outputs": [
    {
     "name": "stdout",
     "output_type": "stream",
     "text": [
      "tensor([[1., 0., 1., 1., 1., 0., 1., 1., 1., 0., 1., 1.],\n",
      "        [1., 0., 1., 1., 1., 0., 1., 1., 1., 0., 1., 1.],\n",
      "        [1., 0., 1., 1., 1., 0., 1., 1., 1., 0., 1., 1.],\n",
      "        [1., 0., 1., 1., 1., 0., 1., 1., 1., 0., 1., 1.]])\n"
     ]
    }
   ],
   "source": [
    "t1 = torch.cat([tensor, tensor, tensor], dim=1)\n",
    "print(t1)"
   ]
  },
  {
   "cell_type": "markdown",
   "id": "80c987b5",
   "metadata": {},
   "source": [
    "### 3.3 算数运算"
   ]
  },
  {
   "cell_type": "code",
   "execution_count": 12,
   "id": "6fd57154",
   "metadata": {},
   "outputs": [
    {
     "data": {
      "text/plain": [
       "tensor([[1., 0., 1., 1.],\n",
       "        [1., 0., 1., 1.],\n",
       "        [1., 0., 1., 1.],\n",
       "        [1., 0., 1., 1.]])"
      ]
     },
     "execution_count": 12,
     "metadata": {},
     "output_type": "execute_result"
    }
   ],
   "source": [
    "# 计算两个tensor的矩阵乘积. y1, y2, y3有相同的结果\n",
    "y1 = tensor @ tensor.T\n",
    "y2 = tensor.matmul(tensor.T)\n",
    "\n",
    "y3 = torch.rand_like(tensor)\n",
    "torch.matmul(tensor, tensor.T, out=y3)\n",
    "\n",
    "\n",
    "# 计算两个矩阵对应位置元素进行乘积(element-wise product). z1, z2, z3 有相同的结果\n",
    "z1 = tensor * tensor\n",
    "z2 = tensor.mul(tensor)\n",
    "\n",
    "z3 = torch.rand_like(tensor)\n",
    "torch.mul(tensor, tensor, out=z3)"
   ]
  },
  {
   "cell_type": "markdown",
   "id": "65068a9b",
   "metadata": {},
   "source": [
    "### 3.4 单元素的tensors\n",
    "如果tensor中只有一个元素，可以通过item方法将tensor转为一个Python的数值类型。"
   ]
  },
  {
   "cell_type": "code",
   "execution_count": 13,
   "id": "859ea442",
   "metadata": {},
   "outputs": [
    {
     "name": "stdout",
     "output_type": "stream",
     "text": [
      "12.0 <class 'float'>\n"
     ]
    }
   ],
   "source": [
    "agg = tensor.sum()\n",
    "agg_item = agg.item()\n",
    "print(agg_item, type(agg_item))"
   ]
  },
  {
   "cell_type": "markdown",
   "id": "707a7329",
   "metadata": {},
   "source": [
    "### 3.5 In-place operations \n",
    "该操作不经过复制操作，而是直接在原来的内存上改变它的值叫做in-place. 经常加后缀“_”来代表in-place operation. 例如 x.copy_(y), x.t_(), 将会改变 x。"
   ]
  },
  {
   "cell_type": "code",
   "execution_count": 14,
   "id": "4ebdb91f",
   "metadata": {},
   "outputs": [
    {
     "name": "stdout",
     "output_type": "stream",
     "text": [
      "tensor([[1., 0., 1., 1.],\n",
      "        [1., 0., 1., 1.],\n",
      "        [1., 0., 1., 1.],\n",
      "        [1., 0., 1., 1.]]) \n",
      "\n",
      "tensor([[6., 5., 6., 6.],\n",
      "        [6., 5., 6., 6.],\n",
      "        [6., 5., 6., 6.],\n",
      "        [6., 5., 6., 6.]])\n"
     ]
    }
   ],
   "source": [
    "print(tensor, \"\\n\")\n",
    "tensor.add_(5)\n",
    "print(tensor)"
   ]
  },
  {
   "cell_type": "markdown",
   "id": "c2a964cd",
   "metadata": {},
   "source": [
    "注意：In-place operations保存了一些内存的空间，但是当在计算derivatives时往往会出现问题，因为会立即失去之前的值。因此不建议使用。\n",
    "\n",
    "## 4 Numpy桥\n",
    "\n",
    "Tensors在CPU上和Numpy共享一样的内存位置，如果改变了其中一个，另一个也会被改变。\n",
    "\n",
    "### 4.1 tensor转numpy"
   ]
  },
  {
   "cell_type": "code",
   "execution_count": 15,
   "id": "6854fcfe",
   "metadata": {},
   "outputs": [
    {
     "name": "stdout",
     "output_type": "stream",
     "text": [
      "t: tensor([1., 1., 1., 1., 1.])\n",
      "n: [1. 1. 1. 1. 1.]\n"
     ]
    }
   ],
   "source": [
    "t = torch.ones(5)\n",
    "print(f\"t: {t}\")\n",
    "n = t.numpy()\n",
    "print(f\"n: {n}\")"
   ]
  },
  {
   "cell_type": "markdown",
   "id": "caf9207c",
   "metadata": {},
   "source": [
    "tensor的改变将会影响到Numpy的array"
   ]
  },
  {
   "cell_type": "code",
   "execution_count": 16,
   "id": "b87151a3",
   "metadata": {},
   "outputs": [
    {
     "name": "stdout",
     "output_type": "stream",
     "text": [
      "t: tensor([2., 2., 2., 2., 2.])\n",
      "n: [2. 2. 2. 2. 2.]\n"
     ]
    }
   ],
   "source": [
    "t.add_(1)\n",
    "print(f\"t: {t}\")\n",
    "print(f\"n: {n}\")"
   ]
  },
  {
   "cell_type": "markdown",
   "id": "b95a6e10",
   "metadata": {},
   "source": [
    "### 4.2 numpy转tensor"
   ]
  },
  {
   "cell_type": "code",
   "execution_count": 17,
   "id": "847ee828",
   "metadata": {},
   "outputs": [],
   "source": [
    "n = np.ones(5)\n",
    "t = torch.from_numpy(n)"
   ]
  },
  {
   "cell_type": "markdown",
   "id": "618bc7a6",
   "metadata": {},
   "source": [
    "Numpy的array的值改变将会影响到tensor"
   ]
  },
  {
   "cell_type": "code",
   "execution_count": 18,
   "id": "77c84b97",
   "metadata": {},
   "outputs": [
    {
     "name": "stdout",
     "output_type": "stream",
     "text": [
      "t: tensor([2., 2., 2., 2., 2.], dtype=torch.float64)\n",
      "n: [2. 2. 2. 2. 2.]\n"
     ]
    }
   ],
   "source": [
    "np.add(n, 1, out=n)\n",
    "print(f\"t: {t}\")\n",
    "print(f\"n: {n}\")"
   ]
  },
  {
   "cell_type": "code",
   "execution_count": null,
   "id": "417aa884",
   "metadata": {},
   "outputs": [],
   "source": []
  }
 ],
 "metadata": {
  "kernelspec": {
   "display_name": "Python [conda env:py38]",
   "language": "python",
   "name": "conda-env-py38-py"
  },
  "language_info": {
   "codemirror_mode": {
    "name": "ipython",
    "version": 3
   },
   "file_extension": ".py",
   "mimetype": "text/x-python",
   "name": "python",
   "nbconvert_exporter": "python",
   "pygments_lexer": "ipython3",
   "version": "3.8.10"
  }
 },
 "nbformat": 4,
 "nbformat_minor": 5
}
