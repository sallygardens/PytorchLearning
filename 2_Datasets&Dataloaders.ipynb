{
 "cells": [
  {
   "cell_type": "markdown",
   "id": "bb9ca59b",
   "metadata": {},
   "source": [
    "# DATASETS & DATALOADERS\n",
    "\n",
    "处理数据样本的代码可能是凌乱的以至于难以维护。我们非常希望我们数据库的代码与我们模型训练的代码分开，让代码有更好的易读性和模块性。Pytorch提供了两个data primitives 一个是<kbd>torch.utils.data.DataLoader</kbd>另一个是<kbd>torch.utils.data.Dataset</kbd>允许你使用pre-loaded的dataset或者加载你自己的data。Dataset保存着samples以及它们的corresponding label，DataLoader封装了关于Dataset的迭代器让我们可以轻易地取访问这些samples。\n",
    "\n",
    "Pytorch的domain libraries提供了大量的pre-loaded datasets(例如FashionMNIST)，子类<kbd>torch.utils.data.Dataset</kbd>以及针对与特定数据的实现函数。它们可以用于prototype和benchmark你的model。你可以在**Image Datasets**, **Text Datasets**, and **Audio Datasets**中找到它们。\n",
    "\n",
    "## Loading a Dataset\n",
    "\n",
    "这是一个如何从TorchVision加载FashionMNIST dataset的例子。FashionMNIST数据集是一个Zalando文章图片的dataset包含60000张的training examples和10000张的test examples。每个example是一张28x28的grayscale image和其对应的label（总共十个类别）。\n",
    "\n",
    "我们加载FashionMNIST Dataset需要如下的参数\n",
    "\n",
    "* **root**：train/test data保存的路径 \n",
    "* **train**：指定training dataset还是test dataset \n",
    "* **download=True**：从互联网下载数据，除非root指定的路径不可用\n",
    "* **transform**和**target_transform**指定feature和label的变换(transformation)。"
   ]
  },
  {
   "cell_type": "code",
   "execution_count": 2,
   "id": "409db7a9",
   "metadata": {},
   "outputs": [
    {
     "name": "stderr",
     "output_type": "stream",
     "text": [
      "E:\\Software\\Anaconda3\\envs\\py38\\lib\\site-packages\\torchvision\\datasets\\mnist.py:498: UserWarning: The given NumPy array is not writeable, and PyTorch does not support non-writeable tensors. This means you can write to the underlying (supposedly non-writeable) NumPy array using the tensor. You may want to copy the array to protect its data or make it writeable before converting it to a tensor. This type of warning will be suppressed for the rest of this program. (Triggered internally at  ..\\torch\\csrc\\utils\\tensor_numpy.cpp:180.)\n",
      "  return torch.from_numpy(parsed.astype(m[2], copy=False)).view(*s)\n"
     ]
    }
   ],
   "source": [
    "import torch\n",
    "from torch.utils.data import Dataset\n",
    "from torchvision import datasets\n",
    "from torchvision.transforms import ToTensor\n",
    "import matplotlib.pyplot as plt\n",
    "\n",
    "training_data = datasets.FashionMNIST(\n",
    "    root=\"data\",\n",
    "    train=True,\n",
    "    download=True,\n",
    "    transform=ToTensor()\n",
    ")\n",
    "\n",
    "test_data = datasets.FashionMNIST(\n",
    "    root=\"data\",\n",
    "    train=False,\n",
    "    download=True,\n",
    "    transform=ToTensor()\n",
    ")\n"
   ]
  },
  {
   "cell_type": "markdown",
   "id": "d8e261fe",
   "metadata": {},
   "source": [
    "## 迭代并可视化Dataset\n",
    "\n",
    "我们使用training_data[index]访问图片数据。使用matplotlib库对抽取出来的图片进行可视化。"
   ]
  },
  {
   "cell_type": "code",
   "execution_count": 3,
   "id": "adde322c",
   "metadata": {},
   "outputs": [
    {
     "data": {
      "image/png": "[encoded data removed]",
      "text/plain": [
       "<Figure size 576x576 with 9 Axes>"
      ]
     },
     "metadata": {
      "needs_background": "light"
     },
     "output_type": "display_data"
    }
   ],
   "source": [
    "labels_map = {\n",
    "    0: \"T-Shirt\",\n",
    "    1: \"Trouser\",\n",
    "    2: \"Pullover\",\n",
    "    3: \"Dress\",\n",
    "    4: \"Coat\",\n",
    "    5: \"Sandal\",\n",
    "    6: \"Shirt\",\n",
    "    7: \"Sneaker\",\n",
    "    8: \"Bag\",\n",
    "    9: \"Ankle Boot\",\n",
    "}\n",
    "\n",
    "figure=plt.figure(figsize=(8,8))\n",
    "cols,rows=3,3\n",
    "for i in range(1,cols*rows+1):\n",
    "    sample_idx=torch.randint(len(training_data),size=(1,)).item()\n",
    "    img,label=training_data[sample_idx]\n",
    "    figure.add_subplot(rows,cols,i)\n",
    "    plt.title(labels_map[label])\n",
    "    plt.axis(\"off\")\n",
    "    plt.imshow(img.squeeze(),cmap=\"gray\")\n",
    "\n",
    "plt.show()"
   ]
  },
  {
   "cell_type": "markdown",
   "id": "32b30987",
   "metadata": {},
   "source": [
    "## 创建一个自定义的Dataset\n",
    "\n",
    "一个自定义的Dataset必须实现三个函数：<kbd>\\_\\_init\\_\\_</kbd>,<kbd>\\_\\_len\\_\\_</kbd>和<kbd>\\_\\_getitem\\_\\_</kbd>。我们关注一下这个函数的实现；FashionMNIST图像存储在<kbd>img_dir</kbd>路径下,他们的labels分开存储在CSV文件<kbd>annotations_file</kbd>中。在下一节中我们将依次分析每个函数。"
   ]
  },
  {
   "cell_type": "code",
   "execution_count": 4,
   "id": "252b47f2",
   "metadata": {},
   "outputs": [],
   "source": [
    "import os\n",
    "import pandas as pd\n",
    "from torchvision.io import read_image\n",
    "\n",
    "class CustomImageDataset(Dataset):\n",
    "    def __init__(self, annotations_file, img_dir, transform=None, target_transform=None):\n",
    "        self.img_labels = pd.read_csv(annotations_file)\n",
    "        self.img_dir = img_dir\n",
    "        self.transform = transform\n",
    "        self.target_transform = target_transform\n",
    "\n",
    "    def __len__(self):\n",
    "        return len(self.img_labels)\n",
    "\n",
    "    def __getitem__(self, idx):\n",
    "        img_path = os.path.join(self.img_dir, self.img_labels.iloc[idx, 0])\n",
    "        image = read_image(img_path)\n",
    "        label = self.img_labels.iloc[idx, 1]\n",
    "        if self.transform:\n",
    "            image = self.transform(image)\n",
    "        if self.target_transform:\n",
    "            label = self.target_transform(label)\n",
    "        return image, label"
   ]
  },
  {
   "cell_type": "markdown",
   "id": "811c7a8a",
   "metadata": {},
   "source": [
    "### \\_\\_init\\_\\_\n",
    "\n",
    "\\_\\_init\\_\\_函数当Dataset object对象被实例化时运行一次。我们初始化的的路径包含images和annotations file以及两个变换(transforms).\n",
    "\n",
    "labels.csv文件看起来像这样：\n",
    "\n",
    "tshirt1.jpg, 0\n",
    "\n",
    "tshirt2.jpg, 0\n",
    "\n",
    "......\n",
    "\n",
    "ankleboot999.jpg, 9\n",
    "\n",
    "\\_\\_init\\_\\_部分代码：\n",
    "```python\n",
    "\n",
    "def __init__(self, annotations_file, img_dir, transform=None, target_transform=None):\n",
    "        self.img_labels = pd.read_csv(annotations_file)\n",
    "        self.img_dir = img_dir\n",
    "        self.transform = transform\n",
    "        self.target_transform = target_transform\n",
    "```\n",
    "\n",
    "### \\_\\_len\\_\\_\n",
    "\n",
    "\\_\\_len\\_\\_函数返回我们dataset中的sample的数量\n",
    "\n",
    "例子：\n",
    "\n",
    "```python\n",
    "def __len__(self):\n",
    "    return len(self.img_labels)\n",
    "\n",
    "```\n",
    "\n",
    "### \\_\\_getitem\\_\\_\n",
    "\\_\\_getitem\\_\\_函数加载并返回dataset中给定索引idx位置上的sample。依据索引识别出image在disk上的位置，并通过<kbd>read_image</kbd>将image转换为一个tensor。在<kbd>self.img_labels</kbd>的csv数据里找到对应的label，调用transform函数(if applicable),然后返回tensor化的image和它对应的label到一个tuple中。\n",
    "\n",
    "```python\n",
    "def __getitem__(self, idx):\n",
    "    img_path = os.path.join(self.img_dir, self.img_labels.iloc[idx, 0])\n",
    "    image = read_image(img_path)\n",
    "    label = self.img_labels.iloc[idx, 1]\n",
    "    if self.transform:\n",
    "        image = self.transform(image)\n",
    "    if self.target_transform:\n",
    "        label = self.target_transform(label)\n",
    "    return image, label\n",
    "```\n",
    "\n",
    "## 通过DataLoader准备你的training data\n",
    "<kbd>Dataset</kbd>每次检索我们Dataset的feature和label一个sample。当训练一个model时。我们往往会将sample放入一个minibatch中，然后每一次的Epoch都会重洗data，来防止model的overfitting，使用python的multiprocessing来加速data的retrieval。\n",
    "\n",
    "<kbd>DataLoader</kbd>是可迭代的使用了一个简单的API隐藏(abstract)了它的复杂性。\n"
   ]
  },
  {
   "cell_type": "code",
   "execution_count": 5,
   "id": "3e28a4d4",
   "metadata": {},
   "outputs": [],
   "source": [
    "from torch.utils.data import DataLoader\n",
    "train_dataloader=DataLoader(training_data,batch_size=64,shuffle=True)\n",
    "test_dataloader=DataLoader(test_data,batch_size=64,shuffle=True)\n"
   ]
  },
  {
   "cell_type": "markdown",
   "id": "d0cc6767",
   "metadata": {},
   "source": [
    "## 通过DataLoader迭代数据\n",
    "\n",
    "我们将dataset加载到了<kbd>DataLoader</kbd>中,并可以根据需要迭代我们的dataset。每一次的迭代都会返回一批train_features和train_labels(包含batch_size=64个feature和label)。因为我们指定了shuffle=True，当我们每次迭代完所有的batch后，数据都会被重洗。"
   ]
  },
  {
   "cell_type": "code",
   "execution_count": 8,
   "id": "7448a1ca",
   "metadata": {},
   "outputs": [
    {
     "name": "stdout",
     "output_type": "stream",
     "text": [
      "Feature batch shape:torch.Size([64, 1, 28, 28])\n",
      "Labels batch shape:torch.Size([64])\n"
     ]
    },
    {
     "data": {
      "image/png": "[encoded data removed]",
      "text/plain": [
       "<Figure size 432x288 with 1 Axes>"
      ]
     },
     "metadata": {
      "needs_background": "light"
     },
     "output_type": "display_data"
    },
    {
     "name": "stdout",
     "output_type": "stream",
     "text": [
      "Label:8\n"
     ]
    }
   ],
   "source": [
    "# Display image and label\n",
    "train_features,train_labels=next(iter(train_dataloader))\n",
    "print(f\"Feature batch shape:{train_features.size()}\")\n",
    "print(f\"Labels batch shape:{train_labels.size()}\")\n",
    "img = train_features[0].squeeze()\n",
    "label=train_labels[0]\n",
    "plt.imshow(img,cmap=\"gray\")\n",
    "plt.show()\n",
    "print(f\"Label:{label}\")"
   ]
  },
  {
   "cell_type": "markdown",
   "id": "3abaa172",
   "metadata": {},
   "source": [
    "## 拓展阅读:\n",
    "[torch.utils.data API](https://pytorch.org/docs/stable/data.html)"
   ]
  },
  {
   "cell_type": "code",
   "execution_count": null,
   "id": "e05531ff",
   "metadata": {},
   "outputs": [],
   "source": []
  }
 ],
 "metadata": {
  "kernelspec": {
   "display_name": "Python [conda env:py38]",
   "language": "python",
   "name": "conda-env-py38-py"
  },
  "language_info": {
   "codemirror_mode": {
    "name": "ipython",
    "version": 3
   },
   "file_extension": ".py",
   "mimetype": "text/x-python",
   "name": "python",
   "nbconvert_exporter": "python",
   "pygments_lexer": "ipython3",
   "version": "3.8.10"
  }
 },
 "nbformat": 4,
 "nbformat_minor": 5
}
