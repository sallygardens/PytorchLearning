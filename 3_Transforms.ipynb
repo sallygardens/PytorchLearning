{
 "cells": [
  {
   "cell_type": "markdown",
   "id": "7f8b17ab",
   "metadata": {},
   "source": [
    "# Transforms\n",
    "\n",
    "Data往往不是来自最后处理好直接用来train机器学习算法的形式，我们使用<kbd>transforms</kbd>执行一些有关data的操作，让它适合去训练。\n",
    "\n",
    "所有的TorchVision的datasets都有两个parameters-<kbd>transform</kbd>用来转换feature和<kbd>target_transform</kbd>用来转换label-可以随时接收有关transformation的logic。<kbd>torchvision.transforms</kbd>模块提供了几个随时可以使用的transforms。\n",
    "\n",
    "FashionMNIST feature是PIL(Python Image Library) Image format,label是整型的，训练时，我们需要feature是normalized tensors，以及label是one-hot encoded tensors，为了完成这些transformation，我们使用<kbd>ToTensor</kbd>和<kbd>Lambda</kbd>方法。"
   ]
  },
  {
   "cell_type": "code",
   "execution_count": 1,
   "id": "b56692b9",
   "metadata": {},
   "outputs": [
    {
     "name": "stderr",
     "output_type": "stream",
     "text": [
      "E:\\Software\\Anaconda3\\envs\\py38\\lib\\site-packages\\torchvision\\datasets\\mnist.py:498: UserWarning: The given NumPy array is not writeable, and PyTorch does not support non-writeable tensors. This means you can write to the underlying (supposedly non-writeable) NumPy array using the tensor. You may want to copy the array to protect its data or make it writeable before converting it to a tensor. This type of warning will be suppressed for the rest of this program. (Triggered internally at  ..\\torch\\csrc\\utils\\tensor_numpy.cpp:180.)\n",
      "  return torch.from_numpy(parsed.astype(m[2], copy=False)).view(*s)\n"
     ]
    }
   ],
   "source": [
    "import torch\n",
    "from torchvision import datasets\n",
    "from torchvision.transforms import ToTensor,Lambda\n",
    "\n",
    "ds = datasets.FashionMNIST(\n",
    "    root = \"data\",\n",
    "    train = True,\n",
    "    download = True,\n",
    "    transform = ToTensor(),\n",
    "    target_transform = Lambda(lambda y : torch.zeros(10,dtype=torch.float).scatter_(0,torch.tensor(y),value=1) )\n",
    ")"
   ]
  },
  {
   "cell_type": "markdown",
   "id": "c1ffb1c5",
   "metadata": {},
   "source": [
    "## ToTensor()\n",
    "<kbd>ToTensor</kbd> 方法将一张PIL image或者NumPy ndarray 转变为一个FloatTensor。然后缩放image 像素灰度值(pixel intensity value)到0.0-1.0的范围。\n",
    "\n",
    "## Lambda Transform\n",
    "Lambda Transform使用用户定义的lambda function。这里我们定义了一个将一个integer转换为one-hot encoded tensor。它首先创建了一个size是10(因为dataset中的label有10种)的zero tensor，然后调用scatter\\_方法，这个方法可以根据提供的label y将tensor中对应index的value设置为1。\n",
    "```python\n",
    "target_transform = Lambda(lambda y: torch.zeros(\n",
    "    10, dtype=torch.float).scatter_(dim=0, index=torch.tensor(y), value=1))\n",
    "\n",
    "```\n",
    "## 扩展阅读\n",
    "[torchvision.transforms.API](https://pytorch.org/vision/stable/transforms.html)"
   ]
  },
  {
   "cell_type": "code",
   "execution_count": null,
   "id": "cfcb5ebc",
   "metadata": {},
   "outputs": [],
   "source": []
  }
 ],
 "metadata": {
  "kernelspec": {
   "display_name": "Python [conda env:py38]",
   "language": "python",
   "name": "conda-env-py38-py"
  },
  "language_info": {
   "codemirror_mode": {
    "name": "ipython",
    "version": 3
   },
   "file_extension": ".py",
   "mimetype": "text/x-python",
   "name": "python",
   "nbconvert_exporter": "python",
   "pygments_lexer": "ipython3",
   "version": "3.8.10"
  }
 },
 "nbformat": 4,
 "nbformat_minor": 5
}
